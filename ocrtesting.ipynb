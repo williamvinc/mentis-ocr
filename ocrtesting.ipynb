{
 "cells": [
  {
   "cell_type": "code",
   "execution_count": 3,
   "metadata": {},
   "outputs": [
    {
     "ename": "UnsupportedDocumentException",
     "evalue": "An error occurred (UnsupportedDocumentException) when calling the AnalyzeDocument operation: Request has unsupported document format",
     "output_type": "error",
     "traceback": [
      "\u001b[0;31m---------------------------------------------------------------------------\u001b[0m",
      "\u001b[0;31mUnsupportedDocumentException\u001b[0m              Traceback (most recent call last)",
      "Cell \u001b[0;32mIn[3], line 16\u001b[0m\n\u001b[1;32m     13\u001b[0m \u001b[38;5;28;01mwith\u001b[39;00m \u001b[38;5;28mopen\u001b[39m(file_path, \u001b[38;5;124m\"\u001b[39m\u001b[38;5;124mrb\u001b[39m\u001b[38;5;124m\"\u001b[39m) \u001b[38;5;28;01mas\u001b[39;00m document:\n\u001b[1;32m     14\u001b[0m     imageBytes \u001b[38;5;241m=\u001b[39m \u001b[38;5;28mbytearray\u001b[39m(document\u001b[38;5;241m.\u001b[39mread())\n\u001b[0;32m---> 16\u001b[0m response \u001b[38;5;241m=\u001b[39m \u001b[43mtextractor\u001b[49m\u001b[38;5;241;43m.\u001b[39;49m\u001b[43manalyze_document\u001b[49m\u001b[43m(\u001b[49m\n\u001b[1;32m     17\u001b[0m \u001b[43m    \u001b[49m\u001b[43mDocument\u001b[49m\u001b[38;5;241;43m=\u001b[39;49m\u001b[43m{\u001b[49m\u001b[38;5;124;43m\"\u001b[39;49m\u001b[38;5;124;43mBytes\u001b[39;49m\u001b[38;5;124;43m\"\u001b[39;49m\u001b[43m:\u001b[49m\u001b[43m \u001b[49m\u001b[43mimageBytes\u001b[49m\u001b[43m}\u001b[49m\u001b[43m,\u001b[49m\u001b[43m \u001b[49m\u001b[43mFeatureTypes\u001b[49m\u001b[38;5;241;43m=\u001b[39;49m\u001b[43m[\u001b[49m\u001b[38;5;124;43m\"\u001b[39;49m\u001b[38;5;124;43mTABLES\u001b[39;49m\u001b[38;5;124;43m\"\u001b[39;49m\u001b[43m]\u001b[49m\n\u001b[1;32m     18\u001b[0m \u001b[43m)\u001b[49m\n\u001b[1;32m     20\u001b[0m \u001b[38;5;28mprint\u001b[39m(response)\n",
      "File \u001b[0;32m~/Library/Caches/pypoetry/virtualenvs/cascade-ai-C8XTLGE_-py3.12/lib/python3.12/site-packages/botocore/client.py:565\u001b[0m, in \u001b[0;36mClientCreator._create_api_method.<locals>._api_call\u001b[0;34m(self, *args, **kwargs)\u001b[0m\n\u001b[1;32m    561\u001b[0m     \u001b[38;5;28;01mraise\u001b[39;00m \u001b[38;5;167;01mTypeError\u001b[39;00m(\n\u001b[1;32m    562\u001b[0m         \u001b[38;5;124mf\u001b[39m\u001b[38;5;124m\"\u001b[39m\u001b[38;5;132;01m{\u001b[39;00mpy_operation_name\u001b[38;5;132;01m}\u001b[39;00m\u001b[38;5;124m() only accepts keyword arguments.\u001b[39m\u001b[38;5;124m\"\u001b[39m\n\u001b[1;32m    563\u001b[0m     )\n\u001b[1;32m    564\u001b[0m \u001b[38;5;66;03m# The \"self\" in this scope is referring to the BaseClient.\u001b[39;00m\n\u001b[0;32m--> 565\u001b[0m \u001b[38;5;28;01mreturn\u001b[39;00m \u001b[38;5;28;43mself\u001b[39;49m\u001b[38;5;241;43m.\u001b[39;49m\u001b[43m_make_api_call\u001b[49m\u001b[43m(\u001b[49m\u001b[43moperation_name\u001b[49m\u001b[43m,\u001b[49m\u001b[43m \u001b[49m\u001b[43mkwargs\u001b[49m\u001b[43m)\u001b[49m\n",
      "File \u001b[0;32m~/Library/Caches/pypoetry/virtualenvs/cascade-ai-C8XTLGE_-py3.12/lib/python3.12/site-packages/botocore/client.py:1021\u001b[0m, in \u001b[0;36mBaseClient._make_api_call\u001b[0;34m(self, operation_name, api_params)\u001b[0m\n\u001b[1;32m   1017\u001b[0m     error_code \u001b[38;5;241m=\u001b[39m error_info\u001b[38;5;241m.\u001b[39mget(\u001b[38;5;124m\"\u001b[39m\u001b[38;5;124mQueryErrorCode\u001b[39m\u001b[38;5;124m\"\u001b[39m) \u001b[38;5;129;01mor\u001b[39;00m error_info\u001b[38;5;241m.\u001b[39mget(\n\u001b[1;32m   1018\u001b[0m         \u001b[38;5;124m\"\u001b[39m\u001b[38;5;124mCode\u001b[39m\u001b[38;5;124m\"\u001b[39m\n\u001b[1;32m   1019\u001b[0m     )\n\u001b[1;32m   1020\u001b[0m     error_class \u001b[38;5;241m=\u001b[39m \u001b[38;5;28mself\u001b[39m\u001b[38;5;241m.\u001b[39mexceptions\u001b[38;5;241m.\u001b[39mfrom_code(error_code)\n\u001b[0;32m-> 1021\u001b[0m     \u001b[38;5;28;01mraise\u001b[39;00m error_class(parsed_response, operation_name)\n\u001b[1;32m   1022\u001b[0m \u001b[38;5;28;01melse\u001b[39;00m:\n\u001b[1;32m   1023\u001b[0m     \u001b[38;5;28;01mreturn\u001b[39;00m parsed_response\n",
      "\u001b[0;31mUnsupportedDocumentException\u001b[0m: An error occurred (UnsupportedDocumentException) when calling the AnalyzeDocument operation: Request has unsupported document format"
     ]
    }
   ],
   "source": [
    "import boto3\n",
    "import time\n",
    "import csv\n",
    "from pathlib import Path\n",
    "\n",
    "textractor = boto3.client(\"textract\", region_name=\"ap-southeast-1\")\n",
    "\n",
    "file_path = Path(r\"/Users/isaaclim/Desktop/OCR/mentis-ocr/cth2.pdf\")\n",
    "\n",
    "if not file_path.exists():\n",
    "    raise FileNotFoundError(f\"The file {file_path} does not exist.\")\n",
    "\n",
    "with open(file_path, \"rb\") as document:\n",
    "    imageBytes = bytearray(document.read())\n",
    "\n",
    "response = textractor.analyze_document(\n",
    "    Document={\"Bytes\": imageBytes}, FeatureTypes=[\"TABLES\"]\n",
    ")\n",
    "\n",
    "print(response)"
   ]
  },
  {
   "cell_type": "code",
   "execution_count": 3,
   "metadata": {},
   "outputs": [
    {
     "name": "stdout",
     "output_type": "stream",
     "text": [
      "Extracted table data has been saved to D:\\Engineer\\Aws - sagemaker\\sagemaker-mob\\extracted_table.csv\n"
     ]
    }
   ],
   "source": [
    "with open(file_path, \"rb\") as document:\n",
    "    imageBytes = bytearray(document.read())\n",
    "\n",
    "response = textractor.analyze_document(\n",
    "    Document={\"Bytes\": imageBytes}, FeatureTypes=[\"TABLES\"]\n",
    ")\n",
    "\n",
    "blocks = response[\"Blocks\"]\n",
    "tables = []\n",
    "\n",
    "for block in blocks:\n",
    "    if block[\"BlockType\"] == \"TABLE\":\n",
    "        table = []\n",
    "        cell_map = {}\n",
    "        for relationship in block[\"Relationships\"]:\n",
    "            if relationship[\"Type\"] == \"CHILD\":\n",
    "                for id in relationship[\"Ids\"]:\n",
    "                    cell_map[id] = None\n",
    "\n",
    "        for cell in blocks:\n",
    "            if cell[\"BlockType\"] == \"CELL\" and cell[\"Id\"] in cell_map:\n",
    "                row_index = cell[\"RowIndex\"]\n",
    "                col_index = cell[\"ColumnIndex\"]\n",
    "                text = \"\"\n",
    "                for relationship in cell[\"Relationships\"]:\n",
    "                    if relationship[\"Type\"] == \"CHILD\":\n",
    "                        for id in relationship[\"Ids\"]:\n",
    "                            for item in blocks:\n",
    "                                if item[\"Id\"] == id and item[\"BlockType\"] == \"WORD\":\n",
    "                                    text += item[\"Text\"] + \" \"\n",
    "                text = text.strip()\n",
    "                cell_map[cell[\"Id\"]] = (row_index, col_index, text)\n",
    "                table.append((row_index, col_index, text))\n",
    "\n",
    "        tables.append(table)\n",
    "\n",
    "#csv_file_path = Path(r\"D:\\Engineer\\Aws - sagemaker\\sagemaker-mob\\extracted_table.csv\")\n",
    "csv_file_path = Path(r\"/Users/isaaclim/Desktop/OCR/mentis-ocr/cth2.pdf\")\n",
    "\n",
    "\n",
    "with open(csv_file_path, mode=\"w\", newline=\"\", encoding=\"utf-8\") as csv_file:\n",
    "    writer = csv.writer(csv_file)\n",
    "    for table in tables:\n",
    "        max_row = max(cell[0] for cell in table)\n",
    "        max_col = max(cell[1] for cell in table)\n",
    "        table_data = [[\"\" for _ in range(max_col)] for _ in range(max_row)]\n",
    "\n",
    "        for cell in table:\n",
    "            row_index, col_index, text = cell\n",
    "            table_data[row_index - 1][col_index - 1] = text\n",
    "\n",
    "        writer.writerows(table_data)\n",
    "        writer.writerow([]) \n",
    "\n",
    "print(f\"Output {csv_file_path}\")"
   ]
  },
  {
   "cell_type": "code",
   "execution_count": null,
   "metadata": {},
   "outputs": [],
   "source": []
  }
 ],
 "metadata": {
  "kernelspec": {
   "display_name": "Python 3 (ipykernel)",
   "language": "python",
   "name": "python3"
  },
  "language_info": {
   "codemirror_mode": {
    "name": "ipython",
    "version": 3
   },
   "file_extension": ".py",
   "mimetype": "text/x-python",
   "name": "python",
   "nbconvert_exporter": "python",
   "pygments_lexer": "ipython3",
   "version": "3.12.3"
  }
 },
 "nbformat": 4,
 "nbformat_minor": 4
}
